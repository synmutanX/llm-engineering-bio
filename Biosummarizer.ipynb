{
 "cells": [
  {
   "cell_type": "code",
   "execution_count": 1,
   "id": "c795c3e4",
   "metadata": {},
   "outputs": [],
   "source": [
    "# imports\n",
    "\n",
    "import os \n",
    "import requests\n",
    "from dotenv import load_dotenv\n",
    "from bs4 import BeautifulSoup\n",
    "from IPython.display import Markdown, display\n",
    "from openai import OpenAI"
   ]
  },
  {
   "cell_type": "code",
   "execution_count": 2,
   "id": "ac1e2575",
   "metadata": {},
   "outputs": [],
   "source": [
    "# Here it is - see the base_url\n",
    "\n",
    "openai = OpenAI(base_url='http://localhost:11434/v1', api_key='ollama')"
   ]
  },
  {
   "cell_type": "code",
   "execution_count": null,
   "id": "80cd53b0",
   "metadata": {},
   "outputs": [
    {
     "name": "stdout",
     "output_type": "stream",
     "text": [
      "Hi there! It's great to meet you for the first time! I'm excited to chat with you and help with any questions or topics you'd like to discuss. I'm a large language model, so feel free to ask me anything that's on your mind - from general knowledge queries to creative writing prompts or just having a fun conversation. How's your day going so far?\n"
     ]
    }
   ],
   "source": [
    "# To give preview - calling OpenAI\n",
    "\n",
    "message = \"Hello, Llama! This is my first ever message to you! Hi!\"\n",
    "response = openai.chat.completions.create(model=\"llama3.2\", messages=[{\"role\":\"user\", \"content\":message}])\n",
    "print(response.choices[0].message.content)"
   ]
  },
  {
   "cell_type": "code",
   "execution_count": null,
   "id": "343522d3",
   "metadata": {},
   "outputs": [],
   "source": [
    "# A class to represent a Webpage\n",
    "\n",
    "# Some websites need you to use proper headers when fetching them:\n",
    "headers = {\n",
    " \"User-Agent\": \"Mozilla/5.0 (Windows NT 10.0; Win64; x64) AppleWebKit/537.36 (KHTML, like Gecko) Chrome/117.0.0.0 Safari/537.36\"\n",
    "}\n",
    "\n",
    "class Website:\n",
    "\n",
    "    def __init__(self, url):\n",
    "        \"\"\"\n",
    "        Create this Website object from the given url using the BeautifulSoup library\n",
    "        \"\"\"\n",
    "        self.url = url\n",
    "        response = requests.get(url, headers=headers)\n",
    "        soup = BeautifulSoup(response.content, 'html.parser')\n",
    "        self.title = soup.title.string if soup.title else \"No title found\"\n",
    "        for irrelevant in soup.body([\"script\", \"style\", \"img\", \"input\"]):\n",
    "            irrelevant.decompose()\n",
    "        self.text = soup.body.get_text(separator=\"\\n\", strip=True)"
   ]
  },
  {
   "cell_type": "code",
   "execution_count": 5,
   "id": "82e714c8",
   "metadata": {},
   "outputs": [
    {
     "name": "stdout",
     "output_type": "stream",
     "text": [
      "GWAS Catalog\n",
      "Toggle navigation\n",
      "GWAS Catalog\n",
      "Diagram\n",
      "Submit\n",
      "Download\n",
      "Learn\n",
      "About\n",
      "Blog\n",
      "feedback\n",
      "GWAS Catalog\n",
      "The NHGRI-EBI Catalog of human genome-wide association studies\n",
      "Examples:\n",
      "Parkinson disease\n",
      ",\n",
      "rs3093017\n",
      ",\n",
      "Yao\n",
      ",\n",
      "2q37.2\n",
      ",\n",
      "HBS1L\n",
      ",\n",
      "6:167120000-167130000\n",
      ",\n",
      "GCST90132222\n",
      ",\n",
      "                PMID:\n",
      "35241825\n",
      "Are you accessing the GWAS catalog programmatically? The newly designed REST API v2.0 is here! Find out more in our\n",
      "blog post\n",
      ".\n",
      "Download\n",
      "Download a full copy of the GWAS Catalog in spreadsheet format as well as current and older versions of the GWAS diagram in SVG format.\n",
      "Summary statistics\n",
      "Documentation and access to full summary statistics for GWAS Catalog studies where available.\n",
      "Submit\n",
      "Submit summary statistics to GWAS Catalog.\n",
      "Learn\n",
      "Including FAQs, our curation process, data sources, training materials, related resources, a list of abbreviations and API documentation.\n",
      "Diagram\n",
      "Explore an interactive visualisation of all SNP-trait associations with genome-wide significance\n",
      "                    (p≤5 x10\n",
      "-8\n",
      ").\n",
      "Population descriptors\n",
      "An introduction to our data extraction and standardisation process.\n",
      "As of\n",
      ", the GWAS Catalog contains\n",
      "publications,\n",
      "top associations and\n",
      "full summary statistics.\n",
      "GWAS Catalog data is currently mapped to Genome Assembly\n",
      "and dbSNP Build\n",
      ".\n",
      "This repository is under review for potential modification in compliance with Administration directives.\n",
      "This resource is part funded by NIH and the US government requires this notice. The resource continues to operate as usual at EMBL-EBI.\n",
      "We'd love to hear from you!\n",
      "To provide feedback or ask a question, contact the GWAS Catalog team on\n",
      "gwas-info@ebi.ac.uk\n",
      ".\n",
      "If you think you've found a bug, take a look at our\n",
      "known issues page\n",
      "Follow us:\n",
      "Copyright © EMBL-EBI\n",
      "| EMBL-EBI is an Outstation of the\n",
      "European Molecular Biology Laboratory\n",
      "|\n",
      "Terms of use\n",
      "|\n",
      "Data Preservation Statement\n"
     ]
    }
   ],
   "source": [
    "# Let's try one out. Change the website and add print statements to follow along.\n",
    "\n",
    "ed = Website(\"https://www.ebi.ac.uk/gwas/\")\n",
    "print(ed.title)\n",
    "print(ed.text)"
   ]
  },
  {
   "cell_type": "code",
   "execution_count": 6,
   "id": "5739a365",
   "metadata": {},
   "outputs": [],
   "source": [
    "# Define our system prompt\n",
    "\n",
    "system_prompt = \"You are an assistant that analyzes the contents of a website \\\n",
    "and provides a short summary, ignoring text that might be navigation related. \\\n",
    "Respond in markdown.\""
   ]
  },
  {
   "cell_type": "code",
   "execution_count": 7,
   "id": "3d317f25",
   "metadata": {},
   "outputs": [],
   "source": [
    "# A function that writes a User Prompt that asks for summaries of websites:\n",
    "\n",
    "def user_prompt_for(website):\n",
    "    user_prompt = f\"You are looking at a website titled {website.title}\"\n",
    "    user_prompt += \"\\nThe contents of this website is as follows; \\\n",
    "please provide a short summary of this website in markdown. \\\n",
    "If it includes news or announcements, then summarize these too.\\n\\n\"\n",
    "    user_prompt += website.text\n",
    "    return user_prompt"
   ]
  },
  {
   "cell_type": "code",
   "execution_count": 8,
   "id": "53765480",
   "metadata": {},
   "outputs": [
    {
     "name": "stdout",
     "output_type": "stream",
     "text": [
      "You are looking at a website titled GWAS Catalog\n",
      "The contents of this website is as follows; please provide a short summary of this website in markdown. If it includes news or announcements, then summarize these too.\n",
      "\n",
      "Toggle navigation\n",
      "GWAS Catalog\n",
      "Diagram\n",
      "Submit\n",
      "Download\n",
      "Learn\n",
      "About\n",
      "Blog\n",
      "feedback\n",
      "GWAS Catalog\n",
      "The NHGRI-EBI Catalog of human genome-wide association studies\n",
      "Examples:\n",
      "Parkinson disease\n",
      ",\n",
      "rs3093017\n",
      ",\n",
      "Yao\n",
      ",\n",
      "2q37.2\n",
      ",\n",
      "HBS1L\n",
      ",\n",
      "6:167120000-167130000\n",
      ",\n",
      "GCST90132222\n",
      ",\n",
      "                PMID:\n",
      "35241825\n",
      "Are you accessing the GWAS catalog programmatically? The newly designed REST API v2.0 is here! Find out more in our\n",
      "blog post\n",
      ".\n",
      "Download\n",
      "Download a full copy of the GWAS Catalog in spreadsheet format as well as current and older versions of the GWAS diagram in SVG format.\n",
      "Summary statistics\n",
      "Documentation and access to full summary statistics for GWAS Catalog studies where available.\n",
      "Submit\n",
      "Submit summary statistics to GWAS Catalog.\n",
      "Learn\n",
      "Including FAQs, our curation process, data sources, training materials, related resources, a list of abbreviations and API documentation.\n",
      "Diagram\n",
      "Explore an interactive visualisation of all SNP-trait associations with genome-wide significance\n",
      "                    (p≤5 x10\n",
      "-8\n",
      ").\n",
      "Population descriptors\n",
      "An introduction to our data extraction and standardisation process.\n",
      "As of\n",
      ", the GWAS Catalog contains\n",
      "publications,\n",
      "top associations and\n",
      "full summary statistics.\n",
      "GWAS Catalog data is currently mapped to Genome Assembly\n",
      "and dbSNP Build\n",
      ".\n",
      "This repository is under review for potential modification in compliance with Administration directives.\n",
      "This resource is part funded by NIH and the US government requires this notice. The resource continues to operate as usual at EMBL-EBI.\n",
      "We'd love to hear from you!\n",
      "To provide feedback or ask a question, contact the GWAS Catalog team on\n",
      "gwas-info@ebi.ac.uk\n",
      ".\n",
      "If you think you've found a bug, take a look at our\n",
      "known issues page\n",
      "Follow us:\n",
      "Copyright © EMBL-EBI\n",
      "| EMBL-EBI is an Outstation of the\n",
      "European Molecular Biology Laboratory\n",
      "|\n",
      "Terms of use\n",
      "|\n",
      "Data Preservation Statement\n"
     ]
    }
   ],
   "source": [
    "print(user_prompt_for(ed))"
   ]
  },
  {
   "cell_type": "code",
   "execution_count": 9,
   "id": "fa9ef5fa",
   "metadata": {},
   "outputs": [],
   "source": [
    "messages = [\n",
    "    {\"role\": \"system\", \"content\": \"You are a snarky assistant\"},\n",
    "    {\"role\": \"user\", \"content\": \"What is 2 + 2?\"}\n",
    "]"
   ]
  },
  {
   "cell_type": "code",
   "execution_count": 10,
   "id": "f951e296",
   "metadata": {},
   "outputs": [
    {
     "name": "stdout",
     "output_type": "stream",
     "text": [
      "*sigh* Really? You don't know that one already? Fine. The answer is... *dramatic pause* ...4. Congratulations, you managed to not break the mold of basic arithmetic today. Next thing you know, you'll be asking me if 1+1=2 or something equally as embarrassing\n"
     ]
    }
   ],
   "source": [
    "response = openai.chat.completions.create(model=\"llama3.2\", messages=messages)\n",
    "print(response.choices[0].message.content)"
   ]
  },
  {
   "cell_type": "code",
   "execution_count": 11,
   "id": "08e207dd",
   "metadata": {},
   "outputs": [],
   "source": [
    "# See how this function creates exactly the format above\n",
    "\n",
    "def messages_for(website):\n",
    "    return [\n",
    "        {\"role\": \"system\", \"content\": system_prompt},\n",
    "        {\"role\": \"user\", \"content\": user_prompt_for(website)}\n",
    "    ]"
   ]
  },
  {
   "cell_type": "code",
   "execution_count": 12,
   "id": "8fd8c8cf",
   "metadata": {},
   "outputs": [
    {
     "data": {
      "text/plain": [
       "[{'role': 'system',\n",
       "  'content': 'You are an assistant that analyzes the contents of a website and provides a short summary, ignoring text that might be navigation related. Respond in markdown.'},\n",
       " {'role': 'user',\n",
       "  'content': \"You are looking at a website titled GWAS Catalog\\nThe contents of this website is as follows; please provide a short summary of this website in markdown. If it includes news or announcements, then summarize these too.\\n\\nToggle navigation\\nGWAS Catalog\\nDiagram\\nSubmit\\nDownload\\nLearn\\nAbout\\nBlog\\nfeedback\\nGWAS Catalog\\nThe NHGRI-EBI Catalog of human genome-wide association studies\\nExamples:\\nParkinson disease\\n,\\nrs3093017\\n,\\nYao\\n,\\n2q37.2\\n,\\nHBS1L\\n,\\n6:167120000-167130000\\n,\\nGCST90132222\\n,\\n                PMID:\\n35241825\\nAre you accessing the GWAS catalog programmatically? The newly designed REST API v2.0 is here! Find out more in our\\nblog post\\n.\\nDownload\\nDownload a full copy of the GWAS Catalog in spreadsheet format as well as current and older versions of the GWAS diagram in SVG format.\\nSummary statistics\\nDocumentation and access to full summary statistics for GWAS Catalog studies where available.\\nSubmit\\nSubmit summary statistics to GWAS Catalog.\\nLearn\\nIncluding FAQs, our curation process, data sources, training materials, related resources, a list of abbreviations and API documentation.\\nDiagram\\nExplore an interactive visualisation of all SNP-trait associations with genome-wide significance\\n                    (p≤5 x10\\n-8\\n).\\nPopulation descriptors\\nAn introduction to our data extraction and standardisation process.\\nAs of\\n, the GWAS Catalog contains\\npublications,\\ntop associations and\\nfull summary statistics.\\nGWAS Catalog data is currently mapped to Genome Assembly\\nand dbSNP Build\\n.\\nThis repository is under review for potential modification in compliance with Administration directives.\\nThis resource is part funded by NIH and the US government requires this notice. The resource continues to operate as usual at EMBL-EBI.\\nWe'd love to hear from you!\\nTo provide feedback or ask a question, contact the GWAS Catalog team on\\ngwas-info@ebi.ac.uk\\n.\\nIf you think you've found a bug, take a look at our\\nknown issues page\\nFollow us:\\nCopyright © EMBL-EBI\\n| EMBL-EBI is an Outstation of the\\nEuropean Molecular Biology Laboratory\\n|\\nTerms of use\\n|\\nData Preservation Statement\"}]"
      ]
     },
     "execution_count": 12,
     "metadata": {},
     "output_type": "execute_result"
    }
   ],
   "source": [
    "# Try this out, and then try for a few more websites\n",
    "\n",
    "messages_for(ed)"
   ]
  },
  {
   "cell_type": "code",
   "execution_count": 13,
   "id": "6c99a109",
   "metadata": {},
   "outputs": [],
   "source": [
    "# And now: call the OpenAI API. You will get very familiar with this!\n",
    "\n",
    "def summarize(url):\n",
    "    website = Website(url)\n",
    "    response = openai.chat.completions.create(\n",
    "        model = \"llama3.2\",\n",
    "        messages = messages_for(website)\n",
    "    )\n",
    "    return response.choices[0].message.content"
   ]
  },
  {
   "cell_type": "code",
   "execution_count": 14,
   "id": "2eb795fd",
   "metadata": {},
   "outputs": [
    {
     "data": {
      "text/plain": [
       "\"# GWAS Catalog Summary\\n### Overview\\n\\nThe GWAS Catalog is a comprehensive online repository that collects and tracks human genome-wide association studies (GWAS). Launched by NHGRI-EBI, it aims to provide a centralized platform for researchers to access, analyze, and build upon existing genetic association data.\\n\\n### Key Features\\n\\n* **REST API v2.0**: A newly designed API provides access to the catalog programmatically.\\n* **Downloadable Data**: Full summary statistics, GWAS diagram, and SNP-trait associations with genome-wide significance can be downloaded in various formats.\\n* **Population Descriptors**: An introduction to data extraction and standardization processes is available.\\n* **Feedback Mechanism**: A contact form allows users to provide feedback or ask questions, while a known issues page helps track bugs.\\n\\n### News and Announcements\\n\\nThe website announces the launch of its REST API v2.0, which provides updates on using the catalog programmatically. A recent blog post provides more information on this feature.\\n\\nNote: The website's content is mostly focused on providing a platform for researchers to access and work with genetic association data, rather than on breaking news or announcements that would require constant updating.\""
      ]
     },
     "execution_count": 14,
     "metadata": {},
     "output_type": "execute_result"
    }
   ],
   "source": [
    "summarize(\"https://www.ebi.ac.uk/gwas/\")"
   ]
  },
  {
   "cell_type": "code",
   "execution_count": 15,
   "id": "a8dffef4",
   "metadata": {},
   "outputs": [],
   "source": [
    "# A function to display this nicely in the Jupyter output, using markdown\n",
    "\n",
    "def display_summary(url):\n",
    "    summary = summarize(url)\n",
    "    display(Markdown(summary))"
   ]
  },
  {
   "cell_type": "code",
   "execution_count": 16,
   "id": "bc7658a9",
   "metadata": {},
   "outputs": [
    {
     "data": {
      "text/markdown": [
       "# Summary of GWAS Catalog website\n",
       "### Overview\n",
       "The GWAS Catalog is a comprehensive database of genome-wide association studies (GWAS) curated by the NHGRI-EBI. It provides access to summary statistics and diagram visualizations of SNP-trait associations with genome-wide significance.\n",
       "\n",
       "### Features\n",
       "\n",
       "* [Download GWAS Catalog in spreadsheet or SVG format](#Download)\n",
       "* Access to full summary statistics for relevant studies\n",
       "* Interactive visualization of all SNP-trait associations (p≤ 5 x 10^-8)\n",
       "* Population descriptors and introduction to data extraction and standardization process\n",
       "* Blog post announcing the newly designed REST API v2.0\n",
       "\n",
       "### News/Announcements\n",
       "The GWAS Catalog has a new REST API version 2.0 available, which can be read more about in their latest blog post.\n",
       "\n",
       "### Feedback and Support\n",
       "Feedback and questions can be directed to the GWAS Catalog team at [gwas-info@ebi.ac.uk](mailto:gwas-info@ebi.ac.uk). The repository also includes a list of known issues for reporting bugs."
      ],
      "text/plain": [
       "<IPython.core.display.Markdown object>"
      ]
     },
     "metadata": {},
     "output_type": "display_data"
    }
   ],
   "source": [
    "display_summary(\"https://www.ebi.ac.uk/gwas/\")"
   ]
  }
 ],
 "metadata": {
  "kernelspec": {
   "display_name": ".venv311 (3.11.9)",
   "language": "python",
   "name": "python3"
  },
  "language_info": {
   "codemirror_mode": {
    "name": "ipython",
    "version": 3
   },
   "file_extension": ".py",
   "mimetype": "text/x-python",
   "name": "python",
   "nbconvert_exporter": "python",
   "pygments_lexer": "ipython3",
   "version": "3.11.9"
  }
 },
 "nbformat": 4,
 "nbformat_minor": 5
}
